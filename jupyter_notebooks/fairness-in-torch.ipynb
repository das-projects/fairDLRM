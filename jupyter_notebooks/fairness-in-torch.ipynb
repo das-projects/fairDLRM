{
 "cells": [
  {
   "cell_type": "code",
   "execution_count": 1,
   "metadata": {
    "pycharm": {
     "name": "#%%\n"
    }
   },
   "outputs": [],
   "source": [
    "# HIDE\n",
    "%load_ext autoreload\n",
    "%autoreload 2"
   ]
  },
  {
   "cell_type": "code",
   "execution_count": 2,
   "metadata": {
    "pycharm": {
     "name": "#%%\n"
    }
   },
   "outputs": [
    {
     "name": "stderr",
     "output_type": "stream",
     "text": [
      "/home/arijit/anaconda3/envs/fairDLRM/lib/python3.10/site-packages/scipy/__init__.py:146: UserWarning: A NumPy version >=1.16.5 and <1.23.0 is required for this version of SciPy (detected version 1.23.1\n",
      "  warnings.warn(f\"A NumPy version >={np_minversion} and <{np_maxversion}\"\n"
     ]
    }
   ],
   "source": [
    "# HIDE\n",
    "import matplotlib.pyplot as plt\n",
    "import numpy as np\n",
    "\n",
    "import pandas as pd\n",
    "import seaborn as sns\n",
    "import torch\n",
    "import torch.nn as nn\n",
    "import torch.optim as optim\n",
    "from IPython import display\n",
    "from sklearn import metrics\n",
    "from sklearn.model_selection import train_test_split\n",
    "from sklearn.preprocessing import StandardScaler\n",
    "from sklearn.utils.class_weight import compute_class_weight\n",
    "from torch.utils.data import TensorDataset\n",
    "from torch.utils.data import DataLoader\n",
    "\n",
    "from fairness.helpers import load_ICU_data\n",
    "from fairness.helpers import plot_distributions\n",
    "\n",
    "\n",
    "torch.manual_seed(1)\n",
    "np.random.seed(7)\n",
    "sns.set(style=\"white\", palette=\"muted\", color_codes=True, context=\"talk\")\n",
    "\n",
    "%matplotlib inline"
   ]
  },
  {
   "cell_type": "markdown",
   "metadata": {
    "pycharm": {
     "name": "#%% md\n"
    }
   },
   "source": [
    "# Fairness in Machine Learning with PyTorch"
   ]
  },
  {
   "cell_type": "markdown",
   "metadata": {
    "pycharm": {
     "name": "#%% md\n"
    }
   },
   "source": [
    "Fairness is becoming a hot topic amongst machine learning researchers and practitioners.\n",
    "The field is aware that their models have a large impact on society and that their predictions are not always beneficial.\n",
    "In a [previous blog](https://blog.godatadriven.com/fairness-in-ml), Stijn showed how adversarial networks can be used to make fairer predictions.\n",
    "This blog post focuses on the implementation part of things, so that you as a practitioner are able to build your own fair classifiers.\n",
    "\n",
    "Lets start with a short recap of how adversarial networks can help to battle unfairness.\n",
    "Instead of having only a single classifier that makes predictions $\\hat{y}$ with data $X$, we introduce an adversary that tries to predict if the classifier is unfair for the sensitive attributes $Z$.\n",
    "The classifier has to compete with the adversary in a zero-sum game: the classifier has to make good predictions but is being penalized if the adversary detects unfair decisions.\n",
    "The end-result of this game is, hopefully, a fair classifier that is also good at predicting.\n",
    "\n",
    "<img src=\"images/architecture.png\" alt=\"Architecture\" width=\"750\">\n",
    "\n",
    "Instead of using keras and TensorFlow like the previous blog, we show how to use PyTorch to train the fair classifier.\n",
    "I find PyTorch a bit nicer to try out new ideas, and switching frameworks keeps the mind sharp and the FOMO away!\n",
    "Don't forget to read the [previous blog](https://blog.godatadriven.com/fairness-in-ml) so that you know why we're implementing these things.\n",
    "\n",
    "In the next section, we start by loading the datasets with some PyTorch utilities.\n",
    "After that, we will separately define and pretrain the classifier and adversarial.\n",
    "These components are then combined and trained together to give a fair classifier."
   ]
  },
  {
   "cell_type": "markdown",
   "metadata": {
    "pycharm": {
     "name": "#%% md\n"
    }
   },
   "source": [
    "## Data"
   ]
  },
  {
   "cell_type": "markdown",
   "metadata": {
    "pycharm": {
     "name": "#%% md\n"
    }
   },
   "source": [
    "Our goal is to predict income levels based on personal attributes, such as age, education and marital status.\n",
    "The problem is that our standard classifier is unfair to black people and women.\n",
    "All other attributes being equal, women will, for instance, have lower income predictions than men - even though gender is not part of the personal attributes.\n",
    "Biases like this can be specific to a dataset or even reflect the real world, but we don't want them to lead to unfair predictions.\n",
    "\n",
    "We will start with our dataset from the previous blog.\n",
    "We have the following pandas DataFrames:\n",
    "\n",
    "- `X_train`, `X_test`: attributes used for prediction - like age and native country\n",
    "- `y_train`, `y_test`: target we want to predict - if someone makes more than 50K\n",
    "- `Z_train`, `Z_test`: sensitive attributes - race and color"
   ]
  },
  {
   "cell_type": "code",
   "execution_count": 3,
   "metadata": {
    "pycharm": {
     "name": "#%%\n"
    }
   },
   "outputs": [
    {
     "name": "stdout",
     "output_type": "stream",
     "text": [
      "features X: 30940 samples, 93 attributes\n",
      "targets y: (30940,) samples\n",
      "sensitives Z: 30940 samples, 2 attributes\n"
     ]
    }
   ],
   "source": [
    "# HIDE\n",
    "\n",
    "# load ICU data set\n",
    "X, y, Z = load_ICU_data('/home/arijit/PycharmProjects/fairDLRM/data/adult.data')\n",
    "\n",
    "n_features = X.shape[1]\n",
    "n_sensitive = Z.shape[1]\n",
    "\n",
    "# split into train/test set\n",
    "(X_train, X_test, y_train, y_test,\n",
    " Z_train, Z_test) = train_test_split(X, y, Z, test_size=0.5,\n",
    "                                     stratify=y, random_state=7)\n",
    "\n",
    "# standardize the data\n",
    "scaler = StandardScaler().fit(X_train)\n",
    "scale_df = lambda df, scaler: pd.DataFrame(scaler.transform(df), \n",
    "                                           columns=df.columns, index=df.index)\n",
    "X_train = X_train.pipe(scale_df, scaler) \n",
    "X_test = X_test.pipe(scale_df, scaler) "
   ]
  },
  {
   "cell_type": "markdown",
   "metadata": {
    "pycharm": {
     "name": "#%% md\n"
    }
   },
   "source": [
    "PyTorch has some [tools](https://pytorch.org/tutorials/beginner/data_loading_tutorial.html#) to make data loading and sampling easier.\n",
    "Here, we will use the `Dataset` and `DataLoader`.\n",
    "A `Dataset` represents your dataset and returns samples from it.\n",
    "The `DataLoader` takes a `Dataset` and helps you with shuffling and batching your samples.\n",
    "\n",
    "A `Dataset` generally takes and returns PyTorch tensors, not rows from a pandas DataFrame.\n",
    "Let's add some logic to the [`TensorDataset`](https://pytorch.org/docs/master/data.html#torch.utils.data.TensorDataset) that converts DataFrames into tensors.\n",
    "Subclass the `TensorDataset` so we can initialize a `Dataset` with our pandas DataFrames:"
   ]
  },
  {
   "cell_type": "code",
   "execution_count": 4,
   "metadata": {
    "pycharm": {
     "name": "#%%\n"
    }
   },
   "outputs": [],
   "source": [
    "class PandasDataSet(TensorDataset):\n",
    "\n",
    "    def __init__(self, *dataframes):\n",
    "        tensors = (self._df_to_tensor(df) for df in dataframes)\n",
    "        super(PandasDataSet, self).__init__(*tensors)\n",
    "\n",
    "    def _df_to_tensor(self, df):\n",
    "        if isinstance(df, pd.Series):\n",
    "            df = df.to_frame('dummy')\n",
    "        return torch.from_numpy(df.values).float()\n",
    "\n",
    "\n",
    "train_data = PandasDataSet(X_train, y_train, Z_train)\n",
    "test_data = PandasDataSet(X_test, y_test, Z_test)"
   ]
  },
  {
   "cell_type": "markdown",
   "metadata": {
    "pycharm": {
     "name": "#%% md\n"
    }
   },
   "source": [
    "Create a `DataLoader` that returns shuffled batches of our training set:"
   ]
  },
  {
   "cell_type": "code",
   "execution_count": 5,
   "metadata": {
    "pycharm": {
     "name": "#%%\n"
    }
   },
   "outputs": [
    {
     "name": "stdout",
     "output_type": "stream",
     "text": [
      "# training samples: 15470\n",
      "# batches: 483\n"
     ]
    }
   ],
   "source": [
    "train_loader = DataLoader(train_data, batch_size=32, shuffle=True, drop_last=True)\n",
    "\n",
    "print('# training samples:', len(train_data))\n",
    "print('# batches:', len(train_loader))"
   ]
  },
  {
   "cell_type": "markdown",
   "metadata": {
    "pycharm": {
     "name": "#%% md\n"
    }
   },
   "source": [
    "That is all the processing we need!\n",
    "All the data needed for training and predicting are respectively in `train_loader` and `test_data`.\n",
    "We get batches of data when iterating over the `train_loader`, `test_data` will be used to test our predictions."
   ]
  },
  {
   "cell_type": "markdown",
   "metadata": {
    "pycharm": {
     "name": "#%% md\n"
    }
   },
   "source": [
    "## Income predictions"
   ]
  },
  {
   "cell_type": "markdown",
   "metadata": {
    "pycharm": {
     "name": "#%% md\n"
    }
   },
   "source": [
    "With our datasets in place, we define and pretrain the classifier to make income predictions.\n",
    "This classifier will be good in predicting income level but is likely to be unfair - it is only penalized on performance and not on fairness.\n",
    "\n",
    "The PyTorch's [`nn`](https://pytorch.org/tutorials/beginner/pytorch_with_examples.html#nn-module) module makes implementing a neural network easy.\n",
    "We get a fully working network class by inheriting from `nn.Module` and implementing the `.forward()` method.\n",
    "Our network consists of three sequential hidden layers with ReLu activation and dropout.\n",
    "The sigmoid layer turns these activations into a probability for the income class."
   ]
  },
  {
   "cell_type": "code",
   "execution_count": 6,
   "metadata": {
    "pycharm": {
     "name": "#%%\n"
    }
   },
   "outputs": [],
   "source": [
    "class Classifier(nn.Module):\n",
    "\n",
    "    def __init__(self, n_features, n_hidden=32, p_dropout=0.2):\n",
    "        super(Classifier, self).__init__()\n",
    "        self.network = nn.Sequential(\n",
    "            nn.Linear(n_features, n_hidden),\n",
    "            nn.ReLU(),\n",
    "            nn.Dropout(p_dropout),\n",
    "            nn.Linear(n_hidden, n_hidden),\n",
    "            nn.ReLU(),\n",
    "            nn.Dropout(p_dropout),\n",
    "            nn.Linear(n_hidden, n_hidden),\n",
    "            nn.ReLU(),\n",
    "            nn.Dropout(p_dropout),\n",
    "            nn.Linear(n_hidden, 1),\n",
    "        )\n",
    "\n",
    "    def forward(self, x):\n",
    "        return torch.sigmoid(self.network(x))"
   ]
  },
  {
   "cell_type": "markdown",
   "metadata": {
    "pycharm": {
     "name": "#%% md\n"
    }
   },
   "source": [
    "Initialize the classifier, choose binary cross entropy as the loss function and let Adam optimize the weights of the classifier:"
   ]
  },
  {
   "cell_type": "code",
   "execution_count": 7,
   "metadata": {
    "pycharm": {
     "name": "#%%\n"
    }
   },
   "outputs": [],
   "source": [
    "clf = Classifier(n_features=n_features)\n",
    "clf_criterion = nn.BCELoss()\n",
    "clf_optimizer = optim.Adam(clf.parameters())"
   ]
  },
  {
   "cell_type": "markdown",
   "metadata": {
    "pycharm": {
     "name": "#%% md\n"
    }
   },
   "source": [
    "Time to pretrain the classifier!\n",
    "For each epoch, we'll iterate over the batches returned by our `DataLoader`."
   ]
  },
  {
   "cell_type": "code",
   "execution_count": 8,
   "metadata": {
    "pycharm": {
     "name": "#%%\n"
    },
    "scrolled": true
   },
   "outputs": [],
   "source": [
    "# CHANGE\n",
    "\n",
    "def pretrain_classifier(clf, data_loader, optimizer, criterion):\n",
    "    for x, y, _ in data_loader:\n",
    "        clf.zero_grad()\n",
    "        p_y = clf(x)\n",
    "        loss = criterion(p_y, y)\n",
    "        loss.backward()\n",
    "        optimizer.step()\n",
    "    return clf\n",
    "\n",
    "\n",
    "N_CLF_EPOCHS = 2\n",
    "\n",
    "for epoch in range(N_CLF_EPOCHS):\n",
    "    clf = pretrain_classifier(clf, train_loader, clf_optimizer, clf_criterion)"
   ]
  },
  {
   "cell_type": "markdown",
   "metadata": {
    "pycharm": {
     "name": "#%% md\n"
    }
   },
   "source": [
    "The code above does the following for each batch:\n",
    "- Set the gradients relevant to our classifier to zero.\n",
    "- Let the classifier `clf` predict for a batch `x` to give `p_y`.\n",
    "- Compute the loss given the predictions and the real answer.\n",
    "- Backpropagate the loss with a  `.backward()` to give the gradients to decrease the errors.\n",
    "- Let the classifier optimizer perform an optimization step with these gradients.\n",
    "\n",
    "The result should be a fairly performant though still unfair classifier.\n",
    "We will check the performance after defining the adversary."
   ]
  },
  {
   "cell_type": "markdown",
   "metadata": {
    "pycharm": {
     "name": "#%% md\n"
    }
   },
   "source": [
    "## Detecting unfairness"
   ]
  },
  {
   "cell_type": "markdown",
   "metadata": {
    "pycharm": {
     "name": "#%% md\n"
    }
   },
   "source": [
    "With the classifier pretrained, we now define and pretrain the adversary.\n",
    "Similar to the classifier, our adversary consists of three layers.\n",
    "However, the input comes from a single class (the predicted income class) and the output consists of two sensitive classes (sex and race).\n",
    "\n",
    "For our final solution, there will be a trade-off between classifier performance and fairness for our sensitive attributes.\n",
    "We will tweak the adversarial loss to incorporate that trade-off: the lambda parameter weighs the adversarial loss of each class.\n",
    "This parameter is later also used to scale the adversary performance versus the classifier performance.\n",
    "\n",
    "By telling `nn.BCELoss` not to reduce we get the losses for each individual sample and class instead of a single number.\n",
    "Multiplying this with our `lambdas` and taking the average, gives us the weighted adversarial loss, our proxy for unfairness."
   ]
  },
  {
   "cell_type": "code",
   "execution_count": 9,
   "metadata": {
    "pycharm": {
     "name": "#%%\n"
    }
   },
   "outputs": [
    {
     "name": "stderr",
     "output_type": "stream",
     "text": [
      "/home/arijit/anaconda3/envs/fairDLRM/lib/python3.10/site-packages/torch/nn/_reduction.py:42: UserWarning: size_average and reduce args will be deprecated, please use reduction='none' instead.\n",
      "  warnings.warn(warning.format(ret))\n"
     ]
    }
   ],
   "source": [
    "# CHANGE\n",
    "\n",
    "class Adversary(nn.Module):\n",
    "\n",
    "    def __init__(self, n_sensitive, n_hidden=32):\n",
    "        super(Adversary, self).__init__()\n",
    "        self.network = nn.Sequential(\n",
    "            nn.Linear(1, n_hidden),\n",
    "            nn.ReLU(),\n",
    "            nn.Linear(n_hidden, n_hidden),\n",
    "            nn.ReLU(),\n",
    "            nn.Linear(n_hidden, n_hidden),\n",
    "            nn.ReLU(),\n",
    "            nn.Linear(n_hidden, n_sensitive),\n",
    "        )\n",
    "\n",
    "    def forward(self, x):\n",
    "        return torch.sigmoid(self.network(x))\n",
    "\n",
    "\n",
    "def pretrain_adversary(adv, clf, data_loader, optimizer, criterion):\n",
    "    for x, _, z in data_loader:\n",
    "        p_y = clf(x).detach()\n",
    "        adv.zero_grad()\n",
    "        p_z = adv(p_y)\n",
    "        loss = (criterion(p_z, z) * lambdas).mean()\n",
    "        loss.backward()\n",
    "        optimizer.step()\n",
    "    return adv\n",
    "\n",
    "\n",
    "lambdas = torch.Tensor([130, 30])\n",
    "adv = Adversary(Z_train.shape[1])\n",
    "adv_criterion = nn.BCELoss(reduce=False)\n",
    "adv_optimizer = optim.Adam(adv.parameters())\n",
    "\n",
    "\n",
    "N_ADV_EPOCHS = 5\n",
    "\n",
    "for epoch in range(N_ADV_EPOCHS):\n",
    "    pretrain_adversary(adv, clf, train_loader, adv_optimizer, adv_criterion)"
   ]
  },
  {
   "cell_type": "markdown",
   "metadata": {
    "pycharm": {
     "name": "#%% md\n"
    }
   },
   "source": [
    "Training the adversary is pretty similar to how we trained the classifier.\n",
    "Note that we [`.detach()`](https://pytorch.org/docs/master/autograd.html#torch.Tensor.detach) the predictions of the classifier from the graph.\n",
    "This signals to PyTorch that we don't use the gradients of the classifier operations to optimize the adversary, allowing PyTorch to free up some memory."
   ]
  },
  {
   "cell_type": "markdown",
   "metadata": {
    "pycharm": {
     "name": "#%% md\n"
    }
   },
   "source": [
    "Are our results similar to those of our earlier blog using keras and TensorFlow?\n",
    "Pretty much!\n",
    "The ROC AUC, accuracy and probability distributions look very similar."
   ]
  },
  {
   "cell_type": "code",
   "execution_count": 10,
   "metadata": {
    "pycharm": {
     "name": "#%%\n"
    }
   },
   "outputs": [
    {
     "data": {
      "image/png": "[encoded data removed]",
      "text/plain": [
       "<Figure size 720x288 with 2 Axes>"
      ]
     },
     "metadata": {
      "needs_background": "light"
     },
     "output_type": "display_data"
    }
   ],
   "source": [
    "# HIDE\n",
    "\n",
    "with torch.no_grad():\n",
    "    pre_clf_test = clf(test_data.tensors[0])\n",
    "    pre_adv_test = adv(pre_clf_test)\n",
    "\n",
    "\n",
    "y_pre_clf = pd.Series(pre_clf_test.data.numpy().ravel(),\n",
    "                      index=y_test.index)\n",
    "y_pre_adv = pd.DataFrame(pre_adv_test.numpy(), columns=Z.columns)\n",
    "fig = plot_distributions(y_test, Z_test, y_pre_clf, y_pre_adv)\n",
    "fig.savefig('/home/arijit/PycharmProjects/fairDLRM/images/torch_biased_training.png')"
   ]
  },
  {
   "cell_type": "markdown",
   "metadata": {
    "pycharm": {
     "name": "#%% md\n"
    }
   },
   "source": [
    "Unfortunately, switching frameworks did not magically make the classifier fairer.\n",
    "We can see this from the probability p%-rule and distributions, but also from the ROC AUC score of the adversary.\n",
    "A score higher than 0.5 indicates that the adversary is able to detect unfairness."
   ]
  },
  {
   "cell_type": "markdown",
   "metadata": {
    "pycharm": {
     "name": "#%% md\n"
    }
   },
   "source": [
    "## Training for fairness"
   ]
  },
  {
   "cell_type": "markdown",
   "metadata": {
    "pycharm": {
     "name": "#%% md\n"
    }
   },
   "source": [
    "Now that we have an unfair classifier and an adversary that is able to pick up on unfairness, we can engage them in the zero-sum game to make the classifier fair.\n",
    "Remember that the fair classifier will be punished according to:\n",
    "\n",
    "$$\\min_{\\theta_{clf}}\\left[Loss_{y}(\\theta_{clf})-\\lambda Loss_{Z}(\\theta_{clf},\\theta_{adv})\\right].$$\n",
    "\n",
    "The first term represents how good the classifier is in predicting income, the second how good the adversary can reconstruct unfairness. \n",
    "The parameter $\\lambda$ represents the trade-off between these terms: it weighs the punishment by the adversary versus the prediction performance.\n",
    "\n",
    "The adversary learns on the full data set and the classifier is given only the single batch, giving the adversary a slight edge in learning.\n",
    "The loss function for the classifier is changed to its original loss plus the weighted negative adversarial loss."
   ]
  },
  {
   "cell_type": "code",
   "execution_count": 11,
   "metadata": {
    "pycharm": {
     "name": "#%%\n"
    }
   },
   "outputs": [],
   "source": [
    "# HIDE\n",
    "!rm -f output/torch_*.png"
   ]
  },
  {
   "cell_type": "code",
   "execution_count": 12,
   "metadata": {
    "pycharm": {
     "name": "#%%\n"
    },
    "scrolled": true
   },
   "outputs": [
    {
     "data": {
      "image/png": "[encoded data removed]",
      "text/plain": [
       "<Figure size 720x288 with 2 Axes>"
      ]
     },
     "metadata": {
      "needs_background": "light"
     },
     "output_type": "display_data"
    }
   ],
   "source": [
    "# CHANGE\n",
    "\n",
    "def train(clf, adv, data_loader, clf_criterion, adv_criterion,\n",
    "          clf_optimizer, adv_optimizer, lambdas):\n",
    "    \n",
    "    # Train adversary\n",
    "    for x, y, z in data_loader:\n",
    "        p_y = clf(x)\n",
    "        adv.zero_grad()\n",
    "        p_z = adv(p_y)\n",
    "        loss_adv = (adv_criterion(p_z, z) * lambdas).mean()\n",
    "        loss_adv.backward()\n",
    "        adv_optimizer.step()\n",
    " \n",
    "    # Train classifier on single batch\n",
    "    for x, y, z in data_loader:\n",
    "        pass\n",
    "    p_y = clf(x)\n",
    "    p_z = adv(p_y)\n",
    "    clf.zero_grad()\n",
    "    p_z = adv(p_y)\n",
    "    loss_adv = (adv_criterion(p_z, z) * lambdas).mean()\n",
    "    clf_loss = clf_criterion(p_y, y) - (adv_criterion(adv(p_y), z) * lambdas).mean()\n",
    "    clf_loss.backward()\n",
    "    clf_optimizer.step()\n",
    "    \n",
    "    return clf, adv\n",
    "\n",
    "N_EPOCH_COMBINED = 165\n",
    "\n",
    "for epoch in range(1, N_EPOCH_COMBINED):\n",
    "    \n",
    "    clf, adv = train(clf, adv, train_loader, clf_criterion, adv_criterion,\n",
    "                     clf_optimizer, adv_optimizer, lambdas)\n",
    "\n",
    "    with torch.no_grad():\n",
    "        clf_pred = clf(test_data.tensors[0])\n",
    "        adv_pred = adv(clf_pred)\n",
    "\n",
    "    y_post_clf = pd.Series(clf_pred.numpy().ravel(), index=y_test.index)\n",
    "    Z_post_adv = pd.DataFrame(adv_pred.numpy(), columns=Z_test.columns)\n",
    "    \n",
    "    fig = plot_distributions(y_test, Z_test, y_post_clf, Z_post_adv, epoch)\n",
    "    display.clear_output(wait=True)\n",
    "    plt.savefig(f'/home/arijit/PycharmProjects/fairDLRM/output/torch_{epoch+1:08d}.png', bbox_inches='tight')\n",
    "    plt.show(plt.gcf())\n",
    "    \n",
    "last_img = f'/home/arijit/PycharmProjects/fairDLRM/output/torch_{epoch+1:08d}.png'"
   ]
  },
  {
   "cell_type": "code",
   "execution_count": 14,
   "metadata": {
    "pycharm": {
     "name": "#%%\n"
    },
    "scrolled": true
   },
   "outputs": [],
   "source": [
    "# HIDE\n",
    "!convert -loop 0 -delay 0 /home/arijit/PycharmProjects/fairDLRM/output/torch_*.png -delay 500 {last_img} /home/arijit/PycharmProjects/fairDLRM/images/torch_training.gif"
   ]
  },
  {
   "cell_type": "markdown",
   "metadata": {
    "pycharm": {
     "name": "#%% md\n"
    }
   },
   "source": [
    "Our results are pretty similar to our previous blog.\n",
    "The classifier starts off unfair, but trades some of its performance for fairness.\n",
    "At the end of training, the ROC AUC of the adversary is 0.50, indicating that it's unable to detect race or gender from the made predictions.\n",
    "That's also shown by the p-rules: they're both above 80%.\n",
    "We've successfully used an adversarial neural network to make our classifier fair!"
   ]
  },
  {
   "cell_type": "markdown",
   "metadata": {
    "pycharm": {
     "name": "#%% md\n"
    }
   },
   "source": [
    "## Conclusion"
   ]
  },
  {
   "cell_type": "markdown",
   "metadata": {
    "pycharm": {
     "name": "#%% md\n"
    }
   },
   "source": [
    "This blog took you through the steps of implementing a fair classifier in PyTorch.\n",
    "You can find the total and the original keras implementation in [our GitHub repo](https://github.com/equialgo/fairness-in-ml).\n",
    "Please consider adding a Pull Request if you've succesfully applied this model to your dataset!"
   ]
  }
 ],
 "metadata": {
  "anaconda-cloud": {},
  "kernelspec": {
   "display_name": "Python 3 (ipykernel)",
   "language": "python",
   "name": "python3"
  },
  "language_info": {
   "codemirror_mode": {
    "name": "ipython",
    "version": 3
   },
   "file_extension": ".py",
   "mimetype": "text/x-python",
   "name": "python",
   "nbconvert_exporter": "python",
   "pygments_lexer": "ipython3",
   "version": "3.10.4"
  }
 },
 "nbformat": 4,
 "nbformat_minor": 4
}