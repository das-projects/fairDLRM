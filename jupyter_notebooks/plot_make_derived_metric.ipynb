{
 "cells": [
  {
   "cell_type": "code",
   "execution_count": null,
   "metadata": {
    "collapsed": false,
    "pycharm": {
     "name": "#%%\n"
    }
   },
   "outputs": [],
   "source": [
    "%matplotlib inline"
   ]
  },
  {
   "cell_type": "markdown",
   "metadata": {
    "pycharm": {
     "name": "#%% md\n"
    }
   },
   "source": [
    "Making Derived Metrics\n",
    "======================\n"
   ]
  },
  {
   "cell_type": "markdown",
   "metadata": {
    "pycharm": {
     "name": "#%% md\n"
    }
   },
   "source": [
    "This notebook demonstrates the use of the\n",
    "`fairlearn.metrics.make_derived_metric`{.interpreted-text role=\"func\"}\n",
    "function. Many higher-order machine learning algorithms (such as\n",
    "hyperparameter tuners) make use of scalar metrics when deciding how to\n",
    "proceed. While the `fairlearn.metrics.MetricFrame`{.interpreted-text\n",
    "role=\"class\"} has the ability to produce such scalars through its\n",
    "aggregation functions, its API does not conform to that usually expected\n",
    "by these algorithms. The\n",
    "`~fairlearn.metrics.make_derived_metric`{.interpreted-text role=\"func\"}\n",
    "function exists to bridge this gap.\n",
    "\n",
    "Getting the Data\n",
    "================\n",
    "\n",
    "*This section may be skipped. It simply creates a dataset for\n",
    "illustrative purposes*\n",
    "\n",
    "We will use the well-known UCI \\'Adult\\' dataset as the basis of this\n",
    "demonstration. This is not for a lending scenario, but we will regard it\n",
    "as one for the purposes of this example. We will use the existing\n",
    "\\'race\\' and \\'sex\\' columns (trimming the former to three unique\n",
    "values), and manufacture credit score bands and loan sizes from other\n",
    "columns. We start with some uncontroversial [import]{.title-ref}\n",
    "statements:\n"
   ]
  },
  {
   "cell_type": "code",
   "execution_count": null,
   "metadata": {
    "collapsed": false,
    "pycharm": {
     "name": "#%%\n"
    }
   },
   "outputs": [],
   "source": [
    "import functools\n",
    "import numpy as np\n",
    "\n",
    "import sklearn.metrics as skm\n",
    "from sklearn.compose import ColumnTransformer\n",
    "from sklearn.datasets import fetch_openml\n",
    "from sklearn.impute import SimpleImputer\n",
    "from sklearn.linear_model import LogisticRegression\n",
    "from sklearn.model_selection import train_test_split\n",
    "from sklearn.preprocessing import StandardScaler, OneHotEncoder\n",
    "from sklearn.compose import make_column_selector as selector\n",
    "from sklearn.pipeline import Pipeline\n",
    "from fairlearn.metrics import MetricFrame, make_derived_metric\n",
    "from fairlearn.metrics import accuracy_score_group_min"
   ]
  },
  {
   "cell_type": "markdown",
   "metadata": {
    "pycharm": {
     "name": "#%% md\n"
    }
   },
   "source": [
    "Next, we import the data, dropping any rows which are missing data:\n"
   ]
  },
  {
   "cell_type": "code",
   "execution_count": null,
   "metadata": {
    "collapsed": false,
    "pycharm": {
     "name": "#%%\n"
    }
   },
   "outputs": [],
   "source": [
    "data = fetch_openml(data_id=1590, as_frame=True)\n",
    "X_raw = data.data\n",
    "y = (data.target == \">50K\") * 1\n",
    "A = X_raw[[\"race\", \"sex\"]]"
   ]
  },
  {
   "cell_type": "markdown",
   "metadata": {
    "pycharm": {
     "name": "#%% md\n"
    }
   },
   "source": [
    "We are now going to preprocess the data. Before applying any transforms,\n",
    "we first split the data into train and test sets. All the transforms we\n",
    "apply will be trained on the training set, and then applied to the test\n",
    "set. This ensures that data doesn\\'t leak between the two sets (this is\n",
    "a serious but subtle [problem in machine\n",
    "learning](https://en.wikipedia.org/wiki/Leakage_(machine_learning))).\n",
    "So, first we split the data:\n"
   ]
  },
  {
   "cell_type": "code",
   "execution_count": null,
   "metadata": {
    "collapsed": false,
    "pycharm": {
     "name": "#%%\n"
    }
   },
   "outputs": [],
   "source": [
    "(X_train, X_test, y_train, y_test, A_train, A_test) = train_test_split(\n",
    "    X_raw, y, A, test_size=0.3, random_state=12345, stratify=y\n",
    ")\n",
    "\n",
    "# Ensure indices are aligned between X, y and A,\n",
    "# after all the slicing and splitting of DataFrames\n",
    "# and Series\n",
    "\n",
    "X_train = X_train.reset_index(drop=True)\n",
    "X_test = X_test.reset_index(drop=True)\n",
    "y_train = y_train.reset_index(drop=True)\n",
    "y_test = y_test.reset_index(drop=True)\n",
    "A_train = A_train.reset_index(drop=True)\n",
    "A_test = A_test.reset_index(drop=True)"
   ]
  },
  {
   "cell_type": "markdown",
   "metadata": {
    "pycharm": {
     "name": "#%% md\n"
    }
   },
   "source": [
    "Next, we build two `~sklearn.pipeline.Pipeline`{.interpreted-text\n",
    "role=\"class\"} objects to process the columns, one for numeric data, and\n",
    "the other for categorical data. Both impute missing values; the\n",
    "difference is whether the data are scaled (numeric columns) or one-hot\n",
    "encoded (categorical columns). Imputation of missing values should\n",
    "generally be done with care, since it could potentially introduce\n",
    "biases. Of course, removing rows with missing data could also cause\n",
    "trouble, if particular subgroups have poorer data quality.\n"
   ]
  },
  {
   "cell_type": "code",
   "execution_count": null,
   "metadata": {
    "collapsed": false,
    "pycharm": {
     "name": "#%%\n"
    }
   },
   "outputs": [],
   "source": [
    "numeric_transformer = Pipeline(\n",
    "    steps=[\n",
    "        (\"impute\", SimpleImputer()),\n",
    "        (\"scaler\", StandardScaler()),\n",
    "    ]\n",
    ")\n",
    "categorical_transformer = Pipeline(\n",
    "    [\n",
    "        (\"impute\", SimpleImputer(strategy=\"most_frequent\")),\n",
    "        (\"ohe\", OneHotEncoder(handle_unknown=\"ignore\")),\n",
    "    ]\n",
    ")\n",
    "preprocessor = ColumnTransformer(\n",
    "    transformers=[\n",
    "        (\"num\", numeric_transformer, selector(dtype_exclude=\"category\")),\n",
    "        (\"cat\", categorical_transformer, selector(dtype_include=\"category\")),\n",
    "    ]\n",
    ")"
   ]
  },
  {
   "cell_type": "markdown",
   "metadata": {
    "pycharm": {
     "name": "#%% md\n"
    }
   },
   "source": [
    "With our preprocessor defined, we can now build a new pipeline which\n",
    "includes an Estimator:\n"
   ]
  },
  {
   "cell_type": "code",
   "execution_count": null,
   "metadata": {
    "collapsed": false,
    "pycharm": {
     "name": "#%%\n"
    }
   },
   "outputs": [],
   "source": [
    "unmitigated_predictor = Pipeline(\n",
    "    steps=[\n",
    "        (\"preprocessor\", preprocessor),\n",
    "        (\n",
    "            \"classifier\",\n",
    "            LogisticRegression(solver=\"liblinear\", fit_intercept=True),\n",
    "        ),\n",
    "    ]\n",
    ")"
   ]
  },
  {
   "cell_type": "markdown",
   "metadata": {
    "pycharm": {
     "name": "#%% md\n"
    }
   },
   "source": [
    "With the pipeline fully defined, we can first train it with the training\n",
    "data, and then generate predictions from the test data.\n"
   ]
  },
  {
   "cell_type": "code",
   "execution_count": null,
   "metadata": {
    "collapsed": false,
    "pycharm": {
     "name": "#%%\n"
    }
   },
   "outputs": [],
   "source": [
    "unmitigated_predictor.fit(X_train, y_train)\n",
    "y_pred = unmitigated_predictor.predict(X_test)"
   ]
  },
  {
   "cell_type": "markdown",
   "metadata": {
    "pycharm": {
     "name": "#%% md\n"
    }
   },
   "source": [
    "Creating a derived metric\n",
    "=========================\n",
    "\n",
    "Suppose our key metric is the accuracy score, and we are most interested\n",
    "in ensuring that it exceeds some threshold for all subgroups We might\n",
    "use the `~fairlearn.metrics.MetricFrame`{.interpreted-text role=\"class\"}\n",
    "as follows:\n"
   ]
  },
  {
   "cell_type": "code",
   "execution_count": null,
   "metadata": {
    "collapsed": false,
    "pycharm": {
     "name": "#%%\n"
    }
   },
   "outputs": [],
   "source": [
    "acc_frame = MetricFrame(\n",
    "    skm.accuracy_score, y_test, y_pred, sensitive_features=A_test[\"sex\"]\n",
    ")\n",
    "print(\"Minimum accuracy_score: \", acc_frame.group_min())"
   ]
  },
  {
   "cell_type": "markdown",
   "metadata": {
    "pycharm": {
     "name": "#%% md\n"
    }
   },
   "source": [
    "We can create a function to perform this in a single call using\n",
    "`~fairlearn.metrics.make_derived_metric`{.interpreted-text role=\"func\"}.\n",
    "This takes the following arguments (which must always be supplied as\n",
    "keyword arguments):\n",
    "\n",
    "-   `metric=`{.sourceCode}, the base metric function\n",
    "-   `transform=`{.sourceCode}, the name of the aggregation\n",
    "    transformation to perform. For this demonstration, we want this to\n",
    "    be `'group_min'`{.sourceCode}\n",
    "-   `sample_param_names=`{.sourceCode}, a list of parameter names which\n",
    "    should be treated as sample parameters. This is optional, and\n",
    "    defaults to `['sample_weight']`{.sourceCode} which is appropriate\n",
    "    for many metrics in [scikit-learn]{.title-ref}.\n",
    "\n",
    "The result is a new function with the same signature as the base metric,\n",
    "which accepts two extra arguments:\n",
    "\n",
    "> -   `sensitive_features=`{.sourceCode} to specify the sensitive\n",
    ">     features which define the subgroups\n",
    "> -   `method=`{.sourceCode} to adjust how the aggregation\n",
    ">     transformation operates. This corresponds to the same argument in\n",
    ">     `fairlearn.metrics.MetricFrame.difference`{.interpreted-text\n",
    ">     role=\"meth\"} and\n",
    ">     `fairlearn.metrics.MetricFrame.ratio`{.interpreted-text\n",
    ">     role=\"meth\"}\n",
    "\n",
    "For the current case, we do not need the `method=`{.sourceCode}\n",
    "argument, since we are taking the minimum value.\n"
   ]
  },
  {
   "cell_type": "code",
   "execution_count": null,
   "metadata": {
    "collapsed": false,
    "pycharm": {
     "name": "#%%\n"
    }
   },
   "outputs": [],
   "source": [
    "my_acc = make_derived_metric(metric=skm.accuracy_score, transform=\"group_min\")\n",
    "my_acc_min = my_acc(y_test, y_pred, sensitive_features=A_test[\"sex\"])\n",
    "print(\"Minimum accuracy_score: \", my_acc_min)"
   ]
  },
  {
   "cell_type": "markdown",
   "metadata": {
    "pycharm": {
     "name": "#%% md\n"
    }
   },
   "source": [
    "To show that the returned function also works with sample weights:\n"
   ]
  },
  {
   "cell_type": "code",
   "execution_count": null,
   "metadata": {
    "collapsed": false,
    "pycharm": {
     "name": "#%%\n"
    }
   },
   "outputs": [],
   "source": [
    "random_weights = np.random.rand(len(y_test))\n",
    "\n",
    "acc_frame_sw = MetricFrame(\n",
    "    skm.accuracy_score,\n",
    "    y_test,\n",
    "    y_pred,\n",
    "    sensitive_features=A_test[\"sex\"],\n",
    "    sample_params={\"sample_weight\": random_weights},\n",
    ")\n",
    "\n",
    "from_frame = acc_frame_sw.group_min()\n",
    "from_func = my_acc(\n",
    "    y_test,\n",
    "    y_pred,\n",
    "    sensitive_features=A_test[\"sex\"],\n",
    "    sample_weight=random_weights,\n",
    ")\n",
    "\n",
    "print(\"From MetricFrame:\", from_frame)\n",
    "print(\"From function   :\", from_func)"
   ]
  },
  {
   "cell_type": "markdown",
   "metadata": {
    "pycharm": {
     "name": "#%% md\n"
    }
   },
   "source": [
    "The returned function can also handle parameters which are not sample\n",
    "parameters. Consider `sklearn.metrics.fbeta_score`{.interpreted-text\n",
    "role=\"func\"}, which has a required `beta=`{.sourceCode} argument (and\n",
    "suppose that this time we are most interested in the maximum difference\n",
    "to the overall value). First we evaluate this with a\n",
    "`fairlearn.metrics.MetricFrame`{.interpreted-text role=\"class\"}:\n"
   ]
  },
  {
   "cell_type": "code",
   "execution_count": null,
   "metadata": {
    "collapsed": false,
    "pycharm": {
     "name": "#%%\n"
    }
   },
   "outputs": [],
   "source": [
    "fbeta_03 = functools.partial(skm.fbeta_score, beta=0.3)\n",
    "fbeta_03.__name__ = \"fbeta_score__beta_0.3\"\n",
    "\n",
    "beta_frame = MetricFrame(\n",
    "    fbeta_03,\n",
    "    y_test,\n",
    "    y_pred,\n",
    "    sensitive_features=A_test[\"sex\"],\n",
    "    sample_params={\"sample_weight\": random_weights},\n",
    ")\n",
    "beta_from_frame = beta_frame.difference(method=\"to_overall\")\n",
    "\n",
    "print(\"From frame:\", beta_from_frame)"
   ]
  },
  {
   "cell_type": "markdown",
   "metadata": {
    "pycharm": {
     "name": "#%% md\n"
    }
   },
   "source": [
    "And next, we create a function to evaluate the same. Note that we do not\n",
    "need to use `functools.partial`{.interpreted-text role=\"func\"} to bind\n",
    "the `beta=`{.sourceCode} argument:\n"
   ]
  },
  {
   "cell_type": "code",
   "execution_count": null,
   "metadata": {
    "collapsed": false,
    "pycharm": {
     "name": "#%%\n"
    }
   },
   "outputs": [],
   "source": [
    "beta_func = make_derived_metric(metric=skm.fbeta_score, transform=\"difference\")\n",
    "\n",
    "beta_from_func = beta_func(\n",
    "    y_test,\n",
    "    y_pred,\n",
    "    sensitive_features=A_test[\"sex\"],\n",
    "    beta=0.3,\n",
    "    sample_weight=random_weights,\n",
    "    method=\"to_overall\",\n",
    ")\n",
    "\n",
    "print(\"From function:\", beta_from_func)"
   ]
  },
  {
   "cell_type": "markdown",
   "metadata": {
    "pycharm": {
     "name": "#%% md\n"
    }
   },
   "source": [
    "Pregenerated Metrics\n",
    "====================\n",
    "\n",
    "We provide a number of pregenerated metrics, to cover common use cases.\n",
    "For example, we provide a `accuracy_score_group_min()`{.sourceCode}\n",
    "function to find the minimum over the accuracy scores:\n"
   ]
  },
  {
   "cell_type": "code",
   "execution_count": null,
   "metadata": {
    "collapsed": false,
    "pycharm": {
     "name": "#%%\n"
    }
   },
   "outputs": [],
   "source": [
    "from_myacc = my_acc(y_test, y_pred, sensitive_features=A_test[\"race\"])\n",
    "\n",
    "from_pregen = accuracy_score_group_min(\n",
    "    y_test, y_pred, sensitive_features=A_test[\"race\"]\n",
    ")\n",
    "\n",
    "print(\"From my function :\", from_myacc)\n",
    "print(\"From pregenerated:\", from_pregen)\n",
    "assert from_myacc == from_pregen"
   ]
  }
 ],
 "metadata": {
  "kernelspec": {
   "display_name": "Python 3",
   "language": "python",
   "name": "python3"
  },
  "language_info": {
   "codemirror_mode": {
    "name": "ipython",
    "version": 3
   },
   "file_extension": ".py",
   "mimetype": "text/x-python",
   "name": "python",
   "nbconvert_exporter": "python",
   "pygments_lexer": "ipython3",
   "version": "3.8.12"
  }
 },
 "nbformat": 4,
 "nbformat_minor": 0
}